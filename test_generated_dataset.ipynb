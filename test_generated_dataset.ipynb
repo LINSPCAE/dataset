{
 "cells": [
  {
   "cell_type": "markdown",
   "metadata": {},
   "source": [
    "# Viewing the generated dataset\n",
    "## Loading dataset (Python2)"
   ]
  },
  {
   "cell_type": "code",
   "execution_count": 1,
   "metadata": {},
   "outputs": [],
   "source": [
    "import cPickle\n",
    "# import pickle"
   ]
  },
  {
   "cell_type": "code",
   "execution_count": 6,
   "metadata": {},
   "outputs": [],
   "source": [
    "Xd = cPickle.load(open(\"./RML2016.10a_dict.dat\",\"rb\"))\n",
    "# Xd = pickle.load(open(\"RML2016.10a_dict.dat\",\"rb\"),encoding=\"bytes\")"
   ]
  },
  {
   "cell_type": "code",
   "execution_count": 8,
   "metadata": {},
   "outputs": [
    {
     "data": {
      "text/plain": [
       "dict"
      ]
     },
     "execution_count": 8,
     "metadata": {},
     "output_type": "execute_result"
    }
   ],
   "source": [
    "type(Xd)"
   ]
  },
  {
   "cell_type": "code",
   "execution_count": 9,
   "metadata": {},
   "outputs": [
    {
     "data": {
      "text/plain": [
       "[('QPSK', 2),\n",
       " ('PAM4', 8),\n",
       " ('AM-DSB', -4),\n",
       " ('GFSK', 6),\n",
       " ('QAM64', 8),\n",
       " ('AM-SSB', 12),\n",
       " ('PAM4', 18),\n",
       " ('QAM64', -6),\n",
       " ('QAM16', 2),\n",
       " ('QAM16', -20),\n",
       " ('QAM64', 99),\n",
       " ('PAM4', -6),\n",
       " ('WBFM', -18),\n",
       " ('BPSK', 8),\n",
       " ('PAM4', 99),\n",
       " ('CPFSK', 10),\n",
       " ('WBFM', 6),\n",
       " ('BPSK', 4),\n",
       " ('BPSK', -2),\n",
       " ('QPSK', -20),\n",
       " ('CPFSK', -8),\n",
       " ('AM-SSB', 6),\n",
       " ('QAM64', -20),\n",
       " ('QAM16', 12),\n",
       " ('GFSK', -20),\n",
       " ('AM-SSB', -12),\n",
       " ('CPFSK', 0),\n",
       " ('QPSK', 99),\n",
       " ('AM-DSB', 6),\n",
       " ('BPSK', -16),\n",
       " ('QPSK', -6),\n",
       " ('8PSK', -12),\n",
       " ('CPFSK', -18),\n",
       " ('AM-DSB', -18),\n",
       " ('QPSK', 8),\n",
       " ('PAM4', 14),\n",
       " ('WBFM', -8),\n",
       " ('AM-DSB', -10),\n",
       " ('GFSK', 12),\n",
       " ('QAM64', 2),\n",
       " ('8PSK', -10),\n",
       " ('AM-SSB', 10),\n",
       " ('AM-SSB', -18),\n",
       " ('QAM64', -4),\n",
       " ('GFSK', -4),\n",
       " ('AM-DSB', 8),\n",
       " ('PAM4', -16),\n",
       " ('QPSK', -16),\n",
       " ('BPSK', 16),\n",
       " ('WBFM', -14),\n",
       " ('CPFSK', 16),\n",
       " ('WBFM', 0),\n",
       " ('QPSK', 6),\n",
       " ('BPSK', 14),\n",
       " ('AM-DSB', -8),\n",
       " ('GFSK', -10),\n",
       " ('CPFSK', -2),\n",
       " ('AM-SSB', 8),\n",
       " ('QAM16', 8),\n",
       " ('QAM16', 6),\n",
       " ('8PSK', 99),\n",
       " ('QAM64', 18),\n",
       " ('AM-SSB', -2),\n",
       " ('CPFSK', 6),\n",
       " ('BPSK', 0),\n",
       " ('BPSK', -6),\n",
       " ('8PSK', -14),\n",
       " ('CPFSK', -12),\n",
       " ('AM-SSB', 2),\n",
       " ('8PSK', 0),\n",
       " ('BPSK', -20),\n",
       " ('PAM4', 4),\n",
       " ('GFSK', 10),\n",
       " ('QAM16', -6),\n",
       " ('QAM64', 4),\n",
       " ('PAM4', -20),\n",
       " ('BPSK', 2),\n",
       " ('8PSK', 10),\n",
       " ('AM-SSB', -16),\n",
       " ('QAM64', -10),\n",
       " ('GFSK', -6),\n",
       " ('AM-DSB', 2),\n",
       " ('PAM4', -10),\n",
       " ('QPSK', -2),\n",
       " ('8PSK', -8),\n",
       " ('CPFSK', 99),\n",
       " ('WBFM', 10),\n",
       " ('QPSK', 12),\n",
       " ('8PSK', 12),\n",
       " ('AM-DSB', -14),\n",
       " ('GFSK', 0),\n",
       " ('QAM64', 14),\n",
       " ('AM-SSB', 18),\n",
       " ('BPSK', 99),\n",
       " ('QAM64', -8),\n",
       " ('QAM16', 0),\n",
       " ('GFSK', -16),\n",
       " ('WBFM', 2),\n",
       " ('PAM4', -4),\n",
       " ('QPSK', -12),\n",
       " ('WBFM', -20),\n",
       " ('8PSK', -18),\n",
       " ('CPFSK', 12),\n",
       " ('WBFM', 4),\n",
       " ('BPSK', 10),\n",
       " ('BPSK', -4),\n",
       " ('QPSK', -18),\n",
       " ('CPFSK', -6),\n",
       " ('AM-SSB', 4),\n",
       " ('BPSK', -12),\n",
       " ('8PSK', 16),\n",
       " ('QAM16', 10),\n",
       " ('QAM16', -12),\n",
       " ('QAM16', 99),\n",
       " ('8PSK', -20),\n",
       " ('AM-SSB', -6),\n",
       " ('CPFSK', 2),\n",
       " ('QPSK', 16),\n",
       " ('AM-DSB', 4),\n",
       " ('BPSK', -10),\n",
       " ('WBFM', -4),\n",
       " ('CPFSK', -16),\n",
       " ('WBFM', -16),\n",
       " ('QPSK', 10),\n",
       " ('PAM4', 0),\n",
       " ('AM-DSB', -12),\n",
       " ('GFSK', 14),\n",
       " ('QAM16', -2),\n",
       " ('QAM64', 0),\n",
       " ('8PSK', -4),\n",
       " ('AM-SSB', -20),\n",
       " ('QAM64', -14),\n",
       " ('GFSK', -2),\n",
       " ('AM-DSB', 14),\n",
       " ('PAM4', -14),\n",
       " ('QPSK', -14),\n",
       " ('QAM16', -16),\n",
       " ('CPFSK', 18),\n",
       " ('8PSK', 4),\n",
       " ('QPSK', 0),\n",
       " ('BPSK', 12),\n",
       " ('AM-DSB', -2),\n",
       " ('GFSK', 4),\n",
       " ('QAM64', 10),\n",
       " ('AM-SSB', 14),\n",
       " ('8PSK', 2),\n",
       " ('QAM16', -10),\n",
       " ('PAM4', 16),\n",
       " ('QAM16', 4),\n",
       " ('GFSK', 8),\n",
       " ('QAM16', -18),\n",
       " ('QAM64', 16),\n",
       " ('PAM4', -8),\n",
       " ('GFSK', 99),\n",
       " ('WBFM', 16),\n",
       " ('WBFM', 14),\n",
       " ('AM-SSB', -4),\n",
       " ('CPFSK', 8),\n",
       " ('BPSK', 6),\n",
       " ('BPSK', -8),\n",
       " ('CPFSK', -10),\n",
       " ('AM-SSB', 0),\n",
       " ('WBFM', -6),\n",
       " ('PAM4', 6),\n",
       " ('QAM64', -18),\n",
       " ('QAM16', 14),\n",
       " ('QAM16', -8),\n",
       " ('PAM4', -18),\n",
       " ('AM-DSB', 18),\n",
       " ('AM-SSB', -10),\n",
       " ('QAM64', -12),\n",
       " ('AM-DSB', 0),\n",
       " ('BPSK', -14),\n",
       " ('QPSK', -8),\n",
       " ('8PSK', -6),\n",
       " ('CPFSK', -20),\n",
       " ('GFSK', 16),\n",
       " ('WBFM', 8),\n",
       " ('QPSK', 14),\n",
       " ('PAM4', 12),\n",
       " ('AM-DSB', -16),\n",
       " ('GFSK', 2),\n",
       " ('BPSK', -18),\n",
       " ('QAM64', 12),\n",
       " ('AM-SSB', 16),\n",
       " ('AM-SSB', -14),\n",
       " ('QAM64', -2),\n",
       " ('8PSK', 14),\n",
       " ('GFSK', -14),\n",
       " ('AM-SSB', 99),\n",
       " ('PAM4', -2),\n",
       " ('QPSK', -10),\n",
       " ('CPFSK', 14),\n",
       " ('8PSK', 8),\n",
       " ('QPSK', 4),\n",
       " ('AM-DSB', 16),\n",
       " ('AM-DSB', -6),\n",
       " ('CPFSK', -4),\n",
       " ('AM-DSB', 99),\n",
       " ('WBFM', -2),\n",
       " ('8PSK', 18),\n",
       " ('GFSK', 18),\n",
       " ('QAM16', -14),\n",
       " ('BPSK', 18),\n",
       " ('WBFM', -12),\n",
       " ('AM-SSB', -8),\n",
       " ('CPFSK', 4),\n",
       " ('QPSK', 18),\n",
       " ('AM-DSB', 10),\n",
       " ('AM-DSB', -20),\n",
       " ('8PSK', -16),\n",
       " ('CPFSK', -14),\n",
       " ('WBFM', 18),\n",
       " ('PAM4', 2),\n",
       " ('QAM16', 18),\n",
       " ('QAM16', -4),\n",
       " ('QAM64', 6),\n",
       " ('GFSK', -18),\n",
       " ('WBFM', -10),\n",
       " ('PAM4', 10),\n",
       " ('QAM64', -16),\n",
       " ('QAM16', 16),\n",
       " ('GFSK', -8),\n",
       " ('AM-DSB', 12),\n",
       " ('PAM4', -12),\n",
       " ('QPSK', -4),\n",
       " ('8PSK', -2),\n",
       " ('GFSK', -12),\n",
       " ('8PSK', 6),\n",
       " ('WBFM', 99),\n",
       " ('WBFM', 12)]"
      ]
     },
     "execution_count": 9,
     "metadata": {},
     "output_type": "execute_result"
    }
   ],
   "source": [
    "Xd.keys()"
   ]
  },
  {
   "cell_type": "code",
   "execution_count": 10,
   "metadata": {},
   "outputs": [
    {
     "data": {
      "text/plain": [
       "array([-0.00794518, -0.00790868, -0.00793716, -0.0079027 , -0.00792632,\n",
       "       -0.00789418, -0.00791678, -0.00788506, -0.0079066 , -0.0078766 ,\n",
       "       -0.00789804, -0.0078694 , -0.00788852, -0.00786284, -0.00788   ,\n",
       "       -0.00785391, -0.0078719 , -0.00784698, -0.00786395, -0.00784016,\n",
       "       -0.00785691, -0.00783389, -0.00784958, -0.00782782, -0.0078427 ,\n",
       "       -0.00782176, -0.00783595, -0.00781604, -0.00782974, -0.00781021,\n",
       "       -0.00782319, -0.00780584, -0.00781812, -0.00780172, -0.0078136 ,\n",
       "       -0.00779705, -0.00780903, -0.00779269, -0.00780361, -0.00779001,\n",
       "       -0.00780037, -0.00778592, -0.00779455, -0.00778075, -0.0077902 ,\n",
       "       -0.00778122, -0.00779022, -0.00777761, -0.00778463, -0.00777233,\n",
       "       -0.00778053, -0.00776913, -0.00777738, -0.00776645, -0.00777388,\n",
       "       -0.00776348, -0.00777051, -0.00776058, -0.00776735, -0.0077579 ,\n",
       "       -0.00776487, -0.00775685, -0.00776299, -0.00775391, -0.00775978,\n",
       "       -0.00775315, -0.00775872, -0.00775098, -0.00775589, -0.00774853,\n",
       "       -0.00775428, -0.00774733, -0.00775207, -0.00774492, -0.00774942,\n",
       "       -0.00774313, -0.00774737, -0.00774103, -0.00774508, -0.00773943,\n",
       "       -0.0077433 , -0.00773791, -0.00774035, -0.0077353 , -0.00773917,\n",
       "       -0.00773438, -0.00773762, -0.00773558, -0.00773982, -0.00773596,\n",
       "       -0.00773884, -0.0077363 , -0.00773901, -0.00773467, -0.00773722,\n",
       "       -0.00773367, -0.00773608, -0.00773272, -0.00773498, -0.00773272,\n",
       "       -0.00773485, -0.00773187, -0.00773387, -0.00773108, -0.00773129,\n",
       "       -0.00772843, -0.00773008, -0.00772762, -0.00772927, -0.00772696,\n",
       "       -0.00772926, -0.00772708, -0.00772854, -0.00772713, -0.00772799,\n",
       "       -0.00772609, -0.00772627, -0.00772538, -0.0077281 , -0.00772641,\n",
       "       -0.00772755, -0.00772623, -0.0077273 , -0.00772581, -0.00772682,\n",
       "       -0.00772484, -0.00772579, -0.00772446], dtype=float32)"
      ]
     },
     "execution_count": 10,
     "metadata": {},
     "output_type": "execute_result"
    }
   ],
   "source": [
    "Xd[('AM-SSB', 99)][1,1]"
   ]
  },
  {
   "cell_type": "markdown",
   "metadata": {},
   "source": [
    "## Plot and compare"
   ]
  },
  {
   "cell_type": "code",
   "execution_count": 11,
   "metadata": {},
   "outputs": [],
   "source": [
    "import matplotlib.pyplot as plt"
   ]
  },
  {
   "cell_type": "markdown",
   "metadata": {},
   "source": [
    "### BPSK without noise but with channel distortion"
   ]
  },
  {
   "cell_type": "code",
   "execution_count": 12,
   "metadata": {},
   "outputs": [
    {
     "data": {
      "text/plain": [
       "[<matplotlib.lines.Line2D at 0x7f882f544a10>]"
      ]
     },
     "execution_count": 12,
     "metadata": {},
     "output_type": "execute_result"
    },
    {
     "data": {
      "image/png": "[encoded data removed]",
      "text/plain": [
       "<Figure size 432x288 with 1 Axes>"
      ]
     },
     "metadata": {
      "needs_background": "light"
     },
     "output_type": "display_data"
    }
   ],
   "source": [
    "plt.plot(Xd[('BPSK', 99)][1,1])"
   ]
  },
  {
   "cell_type": "markdown",
   "metadata": {},
   "source": [
    "### BPSK with noise SNR=0 and channel distortions\n",
    "\n",
    "Channel distortion includs: \n",
    "    1. Sample rate shift (max=50Hz, std=0.01)\n",
    "    2. Carrier frequency shift (max=500Hz, std=0.01)\n",
    "    3. Doppler frequency shift (max=1Hz)\n",
    "    4. multipath delay (delay=[0.0, 0.9, 1.7](samples), magnitude=[1, 0.8, 0.3])"
   ]
  },
  {
   "cell_type": "code",
   "execution_count": 13,
   "metadata": {},
   "outputs": [
    {
     "data": {
      "text/plain": [
       "[<matplotlib.lines.Line2D at 0x7f882f4f0050>]"
      ]
     },
     "execution_count": 13,
     "metadata": {},
     "output_type": "execute_result"
    },
    {
     "data": {
      "image/png": "[encoded data removed]",
      "text/plain": [
       "<Figure size 432x288 with 1 Axes>"
      ]
     },
     "metadata": {
      "needs_background": "light"
     },
     "output_type": "display_data"
    }
   ],
   "source": [
    "plt.plot(Xd[('BPSK', 0)][1,1])"
   ]
  },
  {
   "cell_type": "code",
   "execution_count": null,
   "metadata": {},
   "outputs": [],
   "source": []
  }
 ],
 "metadata": {
  "kernelspec": {
   "display_name": "Python 2",
   "language": "python",
   "name": "python2"
  },
  "language_info": {
   "codemirror_mode": {
    "name": "ipython",
    "version": 2
   },
   "file_extension": ".py",
   "mimetype": "text/x-python",
   "name": "python",
   "nbconvert_exporter": "python",
   "pygments_lexer": "ipython2",
   "version": "2.7.16"
  }
 },
 "nbformat": 4,
 "nbformat_minor": 2
}
